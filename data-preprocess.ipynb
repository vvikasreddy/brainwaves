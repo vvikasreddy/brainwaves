{
 "cells": [
  {
   "cell_type": "code",
   "execution_count": 2,
   "metadata": {},
   "outputs": [],
   "source": [
    "import torch\n",
    "import numpy as np\n",
    "import os "
   ]
  },
  {
   "cell_type": "code",
   "execution_count": 3,
   "metadata": {},
   "outputs": [
    {
     "data": {
      "text/plain": [
       "['data02', 'data03']"
      ]
     },
     "execution_count": 3,
     "metadata": {},
     "output_type": "execute_result"
    }
   ],
   "source": [
    "path = \"D:\\\\Vikas\\\\lie_detection\\\\BrainWaves\\\\data\\\\wvu\\\\wvu\\\\\"\n",
    "\n",
    "sub_directories = list(os.listdir(path))\n",
    "sub_directories"
   ]
  },
  {
   "cell_type": "code",
   "execution_count": 4,
   "metadata": {},
   "outputs": [],
   "source": [
    "import pandas as pd\n",
    "\n",
    "columns = [\"path\", \"label\"]\n",
    "df = pd.DataFrame(columns = columns)\n",
    "\n",
    "ans = []"
   ]
  },
  {
   "cell_type": "code",
   "execution_count": 5,
   "metadata": {},
   "outputs": [
    {
     "name": "stdout",
     "output_type": "stream",
     "text": [
      "True\n",
      "d:\\Vikas\\lie_detection\\BrainWaves\n",
      "['data', 'data-preprocess.ipynb', 'dataset.py', 'demo.py', 'documentation.txt', 'independent_subject_test.csv', 'jupy.ipynb', 'labels_all_data.csv', 'labels_smote', 'labels_smote.csv', 'model.py', 'New Text Document.txt', 'results', 's250-1000-smote.npy', 's250-1000-smote_until_9444.npy', 'subject_dependent_train_val.csv', 'test.csv', 'test.py', 'train.py', 'train_val.csv', 'Untitled-1.ipynb', 'utils.py', '__pycache__']\n"
     ]
    }
   ],
   "source": [
    "data_dest = \"d:/Vikas/lie_detection/BrainWaves/data/preprocessed/\"\n",
    "# os.chdir(\"d:/Vikas/lie_detection/BrainWaves\")\n",
    "print(os.path.exists(data_dest))\n",
    "print(os.getcwd())\n",
    "print(list(os.listdir(os.getcwd())))\n",
    "\n",
    "\n",
    "total_count = {}\n",
    "total_outliers = {}\n",
    "for data_dir in sub_directories:\n",
    "    \n",
    "\n",
    "    # count_j, it is the file counter for the npz files \n",
    "    count_j = 1\n",
    "    for j in os.listdir(path + data_dir):\n",
    "        data = np.load(path + data_dir + \"\\\\\" + j, allow_pickle= 1)\n",
    "        # print(list(data.keys()))\n",
    "\n",
    "        eeg_raw = data[\"eeg_raw\"]\n",
    "        label = data[\"annotations\"]\n",
    "        eeg_filt = data[\"eeg_filt\"]\n",
    "\n",
    "        # print(eeg_filt.shape, '----------', len(eeg_filt))\n",
    "        x_path = os.path.join(data_dest,data_dir)\n",
    "         \n",
    "        if not os.path.exists(x_path):\n",
    "            os.mkdir(x_path)\n",
    "       \n",
    "        count = 1\n",
    "        outliers = 0\n",
    "        for indx, val in enumerate(eeg_filt):\n",
    "            if label[indx] == 0 or label[indx] == 1:\n",
    "                pass\n",
    "            else:\n",
    "                outliers += 1\n",
    "                continue\n",
    "\n",
    "            \n",
    "            # np.save(f'{data_dest}/{data_dir}/{data_dir}_{count_j}_{count}',eeg_filt[indx])\n",
    "            # Append Dict as row to DataFrame\n",
    "            new_row = {\"path\": f'{data_dest}/{data_dir}/{data_dir}_{count_j}_{count}', \"label\" : label[indx]}\n",
    "            ans.append(new_row)\n",
    "            count += 1\n",
    "      \n",
    "        # print(count, outliers, \"count, outliers\")\n",
    "        # count - 1, because we are incrementing count at the end of the above loop\n",
    "        total_outliers[f'{data_dir}_{count_j}_{count - 1}'] = outliers\n",
    "        total_count[f'{data_dir}_{count_j}_{count - 1}'] = count - 1\n",
    "        count_j += 1\n",
    "        \n"
   ]
  },
  {
   "cell_type": "code",
   "execution_count": 9,
   "metadata": {},
   "outputs": [
    {
     "name": "stdout",
     "output_type": "stream",
     "text": [
      "4546\n",
      "12019\n",
      "16565\n"
     ]
    }
   ],
   "source": [
    "print(sum(total_outliers.values()))\n",
    "print(sum(total_count.values()))\n",
    "\n",
    "print(sum(total_outliers.values()) + sum(total_count.values()))\n",
    "\n"
   ]
  },
  {
   "cell_type": "code",
   "execution_count": 10,
   "metadata": {},
   "outputs": [],
   "source": [
    "df = pd.DataFrame(ans)"
   ]
  },
  {
   "cell_type": "code",
   "execution_count": 7,
   "metadata": {},
   "outputs": [
    {
     "data": {
      "text/plain": [
       "{'data02_1_3': 75,\n",
       " 'data02_2_0': 80,\n",
       " 'data02_3_0': 62,\n",
       " 'data02_4_46': 26,\n",
       " 'data02_5_0': 65,\n",
       " 'data02_6_40': 13,\n",
       " 'data02_7_22': 42,\n",
       " 'data02_8_52': 12,\n",
       " 'data02_9_49': 21,\n",
       " 'data02_10_17': 49,\n",
       " 'data02_11_51': 19,\n",
       " 'data02_12_29': 43,\n",
       " 'data02_13_31': 41,\n",
       " 'data02_14_33': 33,\n",
       " 'data02_15_6': 61,\n",
       " 'data02_16_32': 36,\n",
       " 'data02_17_30': 35,\n",
       " 'data02_18_29': 52,\n",
       " 'data02_19_25': 43,\n",
       " 'data02_20_24': 37,\n",
       " 'data02_21_25': 44,\n",
       " 'data02_22_19': 36,\n",
       " 'data02_23_19': 37,\n",
       " 'data02_24_23': 33,\n",
       " 'data02_25_26': 38,\n",
       " 'data02_26_17': 40,\n",
       " 'data02_27_80': 2,\n",
       " 'data02_28_53': 14,\n",
       " 'data02_29_63': 11,\n",
       " 'data02_30_64': 11,\n",
       " 'data02_31_58': 2,\n",
       " 'data02_32_44': 23,\n",
       " 'data02_33_28': 31,\n",
       " 'data02_34_46': 26,\n",
       " 'data02_35_41': 35,\n",
       " 'data02_36_51': 14,\n",
       " 'data02_37_37': 30,\n",
       " 'data02_38_41': 20,\n",
       " 'data02_39_59': 26,\n",
       " 'data02_40_21': 62,\n",
       " 'data02_41_60': 20,\n",
       " 'data02_42_58': 6,\n",
       " 'data02_43_57': 1,\n",
       " 'data02_44_74': 4,\n",
       " 'data02_45_72': 1,\n",
       " 'data02_46_58': 2,\n",
       " 'data02_47_59': 3,\n",
       " 'data02_48_60': 12,\n",
       " 'data02_49_40': 29,\n",
       " 'data02_50_19': 12,\n",
       " 'data02_51_19': 9,\n",
       " 'data02_52_20': 13,\n",
       " 'data02_53_73': 9,\n",
       " 'data02_54_75': 6,\n",
       " 'data02_55_67': 4,\n",
       " 'data02_56_44': 14,\n",
       " 'data02_57_48': 11,\n",
       " 'data02_58_77': 9,\n",
       " 'data02_59_46': 14,\n",
       " 'data02_60_80': 2,\n",
       " 'data02_61_73': 3,\n",
       " 'data02_62_69': 7,\n",
       " 'data02_63_74': 1,\n",
       " 'data02_64_43': 22,\n",
       " 'data02_65_45': 31,\n",
       " 'data02_66_0': 74,\n",
       " 'data02_67_6': 67,\n",
       " 'data02_68_19': 61,\n",
       " 'data02_69_70': 2,\n",
       " 'data02_70_36': 23,\n",
       " 'data02_71_53': 13,\n",
       " 'data02_72_51': 11,\n",
       " 'data02_73_48': 10,\n",
       " 'data02_74_54': 4,\n",
       " 'data02_75_64': 15,\n",
       " 'data02_76_55': 20,\n",
       " 'data02_77_52': 22,\n",
       " 'data02_78_48': 19,\n",
       " 'data02_79_23': 47,\n",
       " 'data02_80_23': 40,\n",
       " 'data02_81_25': 42,\n",
       " 'data02_82_72': 1,\n",
       " 'data02_83_76': 4,\n",
       " 'data02_84_76': 3,\n",
       " 'data02_85_69': 2,\n",
       " 'data02_86_48': 31,\n",
       " 'data02_87_51': 28,\n",
       " 'data02_88_58': 5,\n",
       " 'data02_89_66': 1,\n",
       " 'data02_90_52': 2,\n",
       " 'data02_91_51': 1,\n",
       " 'data02_92_38': 14,\n",
       " 'data02_93_46': 21,\n",
       " 'data02_94_31': 40,\n",
       " 'data02_95_42': 27,\n",
       " 'data02_96_58': 6,\n",
       " 'data02_97_63': 8,\n",
       " 'data02_98_51': 30,\n",
       " 'data02_99_59': 7,\n",
       " 'data02_100_65': 1,\n",
       " 'data02_101_75': 4,\n",
       " 'data02_102_74': 1,\n",
       " 'data02_103_76': 0,\n",
       " 'data02_104_79': 1,\n",
       " 'data02_105_83': 0,\n",
       " 'data02_106_69': 0,\n",
       " 'data02_107_73': 0,\n",
       " 'data02_108_71': 0,\n",
       " 'data02_109_67': 2,\n",
       " 'data02_110_48': 19,\n",
       " 'data02_111_51': 10,\n",
       " 'data02_112_54': 4,\n",
       " 'data02_113_58': 19,\n",
       " 'data02_114_56': 22,\n",
       " 'data02_115_48': 23,\n",
       " 'data02_116_39': 27,\n",
       " 'data02_117_65': 10,\n",
       " 'data02_118_66': 13,\n",
       " 'data02_119_46': 17,\n",
       " 'data02_120_33': 39,\n",
       " 'data02_121_42': 34,\n",
       " 'data02_122_38': 20,\n",
       " 'data02_123_52': 12,\n",
       " 'data02_124_34': 29,\n",
       " 'data02_125_50': 20,\n",
       " 'data02_126_55': 11,\n",
       " 'data02_127_48': 8,\n",
       " 'data02_128_61': 11,\n",
       " 'data02_129_40': 19,\n",
       " 'data02_130_43': 14,\n",
       " 'data02_131_51': 9,\n",
       " 'data02_132_53': 13,\n",
       " 'data02_133_42': 22,\n",
       " 'data02_134_58': 19,\n",
       " 'data02_135_47': 17,\n",
       " 'data02_136_39': 20,\n",
       " 'data02_137_0': 77,\n",
       " 'data02_138_0': 71,\n",
       " 'data02_139_52': 29,\n",
       " 'data02_140_39': 27,\n",
       " 'data02_141_45': 27,\n",
       " 'data02_142_61': 0,\n",
       " 'data02_143_62': 7,\n",
       " 'data02_144_68': 5,\n",
       " 'data02_145_56': 9,\n",
       " 'data02_146_57': 9,\n",
       " 'data02_147_66': 8,\n",
       " 'data02_148_60': 8,\n",
       " 'data02_149_61': 4,\n",
       " 'data02_150_82': 0,\n",
       " 'data02_151_0': 56,\n",
       " 'data02_152_49': 15,\n",
       " 'data02_153_54': 23,\n",
       " 'data02_154_37': 27,\n",
       " 'data02_155_12': 45,\n",
       " 'data02_156_38': 28,\n",
       " 'data02_157_68': 4,\n",
       " 'data02_158_65': 1,\n",
       " 'data02_159_66': 1,\n",
       " 'data02_160_63': 12,\n",
       " 'data02_161_69': 2,\n",
       " 'data02_162_66': 4,\n",
       " 'data02_163_53': 16,\n",
       " 'data02_164_62': 12,\n",
       " 'data02_165_68': 5,\n",
       " 'data02_166_35': 25,\n",
       " 'data02_167_48': 22,\n",
       " 'data02_168_54': 24,\n",
       " 'data02_169_54': 16,\n",
       " 'data02_170_45': 14,\n",
       " 'data02_171_55': 21,\n",
       " 'data02_172_47': 24,\n",
       " 'data02_173_51': 34,\n",
       " 'data02_174_40': 29,\n",
       " 'data02_175_76': 5,\n",
       " 'data02_176_58': 8,\n",
       " 'data02_177_67': 6,\n",
       " 'data02_178_63': 9,\n",
       " 'data02_179_65': 8,\n",
       " 'data02_180_73': 3,\n",
       " 'data02_181_68': 2,\n",
       " 'data02_182_75': 5,\n",
       " 'data02_183_68': 1,\n",
       " 'data02_184_85': 2,\n",
       " 'data02_185_71': 2,\n",
       " 'data03_1_74': 7,\n",
       " 'data03_2_61': 25,\n",
       " 'data03_3_57': 13,\n",
       " 'data03_4_73': 11,\n",
       " 'data03_5_75': 26,\n",
       " 'data03_6_84': 11,\n",
       " 'data03_7_64': 23,\n",
       " 'data03_8_64': 22,\n",
       " 'data03_9_62': 12,\n",
       " 'data03_10_78': 37,\n",
       " 'data03_11_78': 25,\n",
       " 'data03_12_99': 28,\n",
       " 'data03_13_86': 9,\n",
       " 'data03_14_85': 19,\n",
       " 'data03_15_80': 13,\n",
       " 'data03_16_52': 20,\n",
       " 'data03_17_64': 15,\n",
       " 'data03_18_58': 24,\n",
       " 'data03_19_54': 22,\n",
       " 'data03_20_48': 27,\n",
       " 'data03_21_60': 22,\n",
       " 'data03_22_52': 40,\n",
       " 'data03_23_56': 33,\n",
       " 'data03_24_52': 19,\n",
       " 'data03_25_53': 22,\n",
       " 'data03_26_67': 27,\n",
       " 'data03_27_57': 25,\n",
       " 'data03_28_70': 5,\n",
       " 'data03_29_75': 26,\n",
       " 'data03_30_64': 28,\n",
       " 'data03_31_69': 25,\n",
       " 'data03_32_77': 23,\n",
       " 'data03_33_66': 26,\n",
       " 'data03_34_62': 20,\n",
       " 'data03_35_54': 25,\n",
       " 'data03_36_54': 20,\n",
       " 'data03_37_52': 34,\n",
       " 'data03_38_51': 18,\n",
       " 'data03_39_58': 20,\n",
       " 'data03_40_66': 8,\n",
       " 'data03_41_66': 16,\n",
       " 'data03_42_52': 20,\n",
       " 'data03_43_58': 21,\n",
       " 'data03_44_72': 17,\n",
       " 'data03_45_56': 9}"
      ]
     },
     "execution_count": 7,
     "metadata": {},
     "output_type": "execute_result"
    }
   ],
   "source": [
    "total_outliers"
   ]
  },
  {
   "cell_type": "code",
   "execution_count": 15,
   "metadata": {},
   "outputs": [],
   "source": [
    "df.to_csv(\"labels.csv\")"
   ]
  },
  {
   "cell_type": "code",
   "execution_count": 74,
   "metadata": {},
   "outputs": [
    {
     "data": {
      "text/plain": [
       "(81, 8, 1800)"
      ]
     },
     "execution_count": 74,
     "metadata": {},
     "output_type": "execute_result"
    }
   ],
   "source": [
    "eeg_raw.shape"
   ]
  },
  {
   "cell_type": "code",
   "execution_count": 22,
   "metadata": {},
   "outputs": [],
   "source": [
    "for i in eeg_raw:\n",
    "    if i.shape != (8, 1800):\n",
    "        break"
   ]
  },
  {
   "cell_type": "code",
   "execution_count": 59,
   "metadata": {},
   "outputs": [
    {
     "data": {
      "text/plain": [
       "(8, 1800)"
      ]
     },
     "execution_count": 59,
     "metadata": {},
     "output_type": "execute_result"
    }
   ],
   "source": [
    "eeg_raw[1].shape"
   ]
  },
  {
   "cell_type": "code",
   "execution_count": 25,
   "metadata": {},
   "outputs": [
    {
     "name": "stdout",
     "output_type": "stream",
     "text": [
      "0\n",
      "0\n",
      "0\n",
      "0\n",
      "0\n",
      "0\n",
      "0\n",
      "1\n",
      "0\n",
      "0\n",
      "0\n",
      "0\n",
      "1\n",
      "3\n",
      "3\n",
      "3\n",
      "0\n",
      "0\n",
      "0\n",
      "0\n",
      "0\n",
      "1\n",
      "1\n",
      "1\n",
      "0\n",
      "0\n",
      "0\n",
      "0\n",
      "1\n",
      "0\n",
      "0\n",
      "3\n",
      "0\n",
      "3\n",
      "3\n",
      "0\n",
      "1\n",
      "0\n",
      "0\n",
      "0\n",
      "1\n",
      "0\n",
      "0\n",
      "1\n",
      "0\n",
      "0\n",
      "0\n",
      "0\n",
      "0\n",
      "0\n",
      "0\n",
      "1\n",
      "1\n",
      "0\n",
      "0\n",
      "0\n",
      "0\n",
      "1\n",
      "0\n",
      "0\n",
      "0\n",
      "0\n",
      "0\n",
      "0\n",
      "1\n",
      "0\n",
      "0\n",
      "0\n",
      "0\n",
      "0\n",
      "0\n",
      "1\n",
      "1\n",
      "0\n",
      "0\n",
      "0\n",
      "0\n",
      "0\n",
      "3\n",
      "1\n",
      "0\n"
     ]
    }
   ],
   "source": [
    "for i in label:\n",
    "    print(i)"
   ]
  },
  {
   "cell_type": "code",
   "execution_count": 26,
   "metadata": {},
   "outputs": [
    {
     "name": "stdout",
     "output_type": "stream",
     "text": [
      "Original Array:\n",
      "[[1 2 3]\n",
      " [4 0 6]\n",
      " [7 8 9]\n",
      " [1 5 0]]\n",
      "\n",
      "Filtered Array:\n",
      "[[1 2 3]\n",
      " [4 0 6]\n",
      " [1 5 0]]\n"
     ]
    }
   ],
   "source": [
    "import numpy as np\n",
    "\n",
    "# Example array\n",
    "arr = np.array([\n",
    "    [1, 2, 3],\n",
    "    [4, 0, 6],\n",
    "    [7, 8, 9],\n",
    "    [1, 5, 0]\n",
    "])\n",
    "\n",
    "# Determine which rows contain at least one 0 or 1\n",
    "mask = np.any(np.isin(arr, [0, 1]), axis=1)\n",
    "\n",
    "# Apply the mask to filter rows\n",
    "filtered_arr = arr[mask]\n",
    "\n",
    "print(\"Original Array:\")\n",
    "print(arr)\n",
    "print(\"\\nFiltered Array:\")\n",
    "print(filtered_arr)\n"
   ]
  },
  {
   "cell_type": "code",
   "execution_count": 30,
   "metadata": {},
   "outputs": [
    {
     "data": {
      "text/plain": [
       "(81, 8, 1800)"
      ]
     },
     "execution_count": 30,
     "metadata": {},
     "output_type": "execute_result"
    }
   ],
   "source": [
    "eeg_raw.shape"
   ]
  },
  {
   "cell_type": "code",
   "execution_count": 17,
   "metadata": {},
   "outputs": [],
   "source": [
    "f = np.load(\"D:/Vikas/lie_detection/BrainWaves/data/preprocessed/data02/data02_1_1.npy\", allow_pickle=1)"
   ]
  },
  {
   "cell_type": "code",
   "execution_count": 18,
   "metadata": {},
   "outputs": [
    {
     "data": {
      "text/plain": [
       "array([[-0.20047627384514566, -0.2278284692323248, -0.25803387600418576,\n",
       "        ..., -8.080546685062371, -7.922294192244261, -7.76485777683833],\n",
       "       [-14.712831118568207, -14.830403455249662, -14.948973235054844,\n",
       "        ..., -7.405707336209724, -7.258721284881276, -7.112575131961276],\n",
       "       [-11.380414392710742, -11.535425284430408, -11.688172094699976,\n",
       "        ..., 1.3188840298663629, 1.3030015683128544, 1.2869253063584636],\n",
       "       ...,\n",
       "       [2.721739194830571, 2.5714381383863985, 2.421237150696417, ...,\n",
       "        1.8264446041052078, 1.8093002738747068, 1.7916427711400233],\n",
       "       [2.0113721821043455, 1.9028222765416982, 1.7940726707067274, ...,\n",
       "        1.924533134046098, 1.9061526954773864, 1.887244201387385],\n",
       "       [1.8524434856052838, 1.7491403036788822, 1.6456153830103046, ...,\n",
       "        2.2972744895254573, 2.273203844415414, 2.24857565505847]],\n",
       "      dtype=object)"
      ]
     },
     "execution_count": 18,
     "metadata": {},
     "output_type": "execute_result"
    }
   ],
   "source": [
    "f"
   ]
  },
  {
   "cell_type": "code",
   "execution_count": 19,
   "metadata": {},
   "outputs": [],
   "source": [
    "import numpy as np"
   ]
  },
  {
   "cell_type": "code",
   "execution_count": 20,
   "metadata": {},
   "outputs": [
    {
     "data": {
      "text/plain": [
       "array([ 1,  2,  3,  4,  5,  6,  7,  8,  9, 10, 11, 12, 13, 14, 15, 16, 17,\n",
       "       18, 19, 20, 21, 22, 23, 24, 25, 26, 27, 28, 29, 30, 31])"
      ]
     },
     "execution_count": 20,
     "metadata": {},
     "output_type": "execute_result"
    }
   ],
   "source": [
    "np.arange(1,32)"
   ]
  },
  {
   "cell_type": "code",
   "execution_count": null,
   "metadata": {},
   "outputs": [],
   "source": [
    "[i for i in range(1, 33)]"
   ]
  }
 ],
 "metadata": {
  "kernelspec": {
   "display_name": "py311",
   "language": "python",
   "name": "python3"
  },
  "language_info": {
   "codemirror_mode": {
    "name": "ipython",
    "version": 3
   },
   "file_extension": ".py",
   "mimetype": "text/x-python",
   "name": "python",
   "nbconvert_exporter": "python",
   "pygments_lexer": "ipython3",
   "version": "3.11.9"
  }
 },
 "nbformat": 4,
 "nbformat_minor": 2
}
