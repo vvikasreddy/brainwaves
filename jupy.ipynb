{
 "cells": [
  {
   "cell_type": "code",
   "execution_count": 4,
   "metadata": {},
   "outputs": [
    {
     "data": {
      "application/vnd.jupyter.widget-view+json": {
       "model_id": "01145cd06eda423ea0b3afa016394f8b",
       "version_major": 2,
       "version_minor": 0
      },
      "text/plain": [
       "model-params.pkl:   0%|          | 0.00/13.4k [00:00<?, ?B/s]"
      ]
     },
     "metadata": {},
     "output_type": "display_data"
    },
    {
     "name": "stdout",
     "output_type": "stream",
     "text": [
      "collections\n",
      "torch._utils\n"
     ]
    },
    {
     "name": "stderr",
     "output_type": "stream",
     "text": [
      "c:\\Users\\zokov\\.conda\\envs\\py3\\Lib\\site-packages\\huggingface_hub\\file_download.py:157: UserWarning: `huggingface_hub` cache-system uses symlinks by default to efficiently store duplicated files but your machine does not support them in C:\\Users\\zokov\\.cache\\huggingface\\hub\\models--PierreGtch--EEGNetv4. Caching files will still work but in a degraded version that might require more space on your disk. This warning can be disabled by setting the `HF_HUB_DISABLE_SYMLINKS_WARNING` environment variable. For more details, see https://huggingface.co/docs/huggingface_hub/how-to-cache#limitations.\n",
      "To support symlinks on Windows, you either need to activate Developer Mode or to run Python as an administrator. In order to see activate developer mode, see this article: https://docs.microsoft.com/en-us/windows/apps/get-started/enable-your-device-for-development\n",
      "  warnings.warn(message)\n"
     ]
    },
    {
     "data": {
      "text/plain": [
       "<All keys matched successfully>"
      ]
     },
     "execution_count": 4,
     "metadata": {},
     "output_type": "execute_result"
    }
   ],
   "source": [
    "import torch\n",
    "from huggingface_hub import hf_hub_download\n",
    "from braindecode.models import EEGNetv4\n",
    "\n",
    "path = hf_hub_download(repo_id='PierreGtch/EEGNetv4', filename='EEGNetv4_Lee2019_MI/model-params.pkl')\n",
    "net = EEGNetv4(3, 2, 385).eval()\n",
    "net.load_state_dict(torch.load(path, map_location='cpu'))\n"
   ]
  },
  {
   "cell_type": "code",
   "execution_count": 20,
   "metadata": {},
   "outputs": [
    {
     "data": {
      "text/plain": [
       "tensor([[[ 0.1321,  0.1275,  0.1411,  0.1287,  0.1671,  0.1425,  0.1666,\n",
       "           0.1729,  0.1269,  0.1532,  0.1367,  0.1290,  0.1184,  0.1444,\n",
       "           0.0967,  0.1300,  0.1277,  0.1209,  0.1214,  0.1504],\n",
       "         [-0.0848, -0.1172, -0.1612, -0.1060, -0.1544, -0.1358, -0.1487,\n",
       "          -0.1665, -0.1147, -0.1399, -0.1122, -0.1455, -0.1191, -0.1637,\n",
       "          -0.1292, -0.1328, -0.1266, -0.1105, -0.1108, -0.1571]],\n",
       "\n",
       "        [[ 0.1486,  0.1334,  0.1376,  0.1684,  0.1062,  0.1491,  0.0965,\n",
       "           0.1237,  0.1058,  0.1420,  0.1502,  0.1508,  0.1452,  0.1261,\n",
       "           0.1253,  0.1866,  0.1386,  0.1480,  0.1557,  0.1267],\n",
       "         [-0.0552, -0.1260, -0.1301, -0.1867, -0.1226, -0.1680, -0.0910,\n",
       "          -0.1294, -0.1048, -0.1488, -0.1965, -0.1492, -0.1163, -0.1131,\n",
       "          -0.1226, -0.1672, -0.1263, -0.1436, -0.1701, -0.1596]]],\n",
       "       grad_fn=<SelectBackward0>)"
      ]
     },
     "execution_count": 20,
     "metadata": {},
     "output_type": "execute_result"
    }
   ],
   "source": [
    "x = torch.rand(2,3,1000)\n",
    "net(x)"
   ]
  },
  {
   "cell_type": "code",
   "execution_count": 45,
   "metadata": {},
   "outputs": [
    {
     "name": "stderr",
     "output_type": "stream",
     "text": [
      "c:\\Users\\zokov\\.conda\\envs\\py3\\Lib\\site-packages\\braindecode\\models\\base.py:23: UserWarning: EEGNetv4: 'in_chans' is depreciated. Use 'n_chans' instead.\n",
      "  warnings.warn(\n",
      "c:\\Users\\zokov\\.conda\\envs\\py3\\Lib\\site-packages\\braindecode\\models\\base.py:23: UserWarning: EEGNetv4: 'n_classes' is depreciated. Use 'n_outputs' instead.\n",
      "  warnings.warn(\n",
      "c:\\Users\\zokov\\.conda\\envs\\py3\\Lib\\site-packages\\braindecode\\models\\base.py:23: UserWarning: EEGNetv4: 'input_window_samples' is depreciated. Use 'n_times' instead.\n",
      "  warnings.warn(\n"
     ]
    }
   ],
   "source": [
    "import pickle\n",
    "\n",
    "# download the model from the hub:\n",
    "path_kwargs = hf_hub_download(\n",
    "    repo_id='PierreGtch/EEGNetv4',\n",
    "    # filename='EEGNetv4_Lee2019_MI/kwargs.pkl',\n",
    "    filename='EEGNetv4_Weibo2014/kwargs.pkl',\n",
    ")\n",
    "path_params = hf_hub_download(\n",
    "    repo_id='PierreGtch/EEGNetv4',\n",
    "    # filename='EEGNetv4_Lee2019_MI/model-params.pkl',\n",
    "    filename = 'EEGNetv4_Weibo2014/kwargs.pkl'\n",
    ")\n",
    "\n",
    "module_kwargs[\"in-chans\"] = 8\n",
    "module_kwargs[\"input_window_samples\"] = 1000\n",
    "\n",
    "with open(path_kwargs, 'rb') as f:\n",
    "    kwargs = pickle.load(f)\n",
    "module_cls = kwargs['module_cls']\n",
    "module_kwargs = kwargs['module_kwargs']\n",
    "\n",
    "# load the model with pre-trained weights:\n",
    "torch_module = module_cls(**module_kwargs)"
   ]
  },
  {
   "cell_type": "code",
   "execution_count": 42,
   "metadata": {},
   "outputs": [],
   "source": []
  },
  {
   "cell_type": "code",
   "execution_count": 44,
   "metadata": {},
   "outputs": [
    {
     "ename": "AssertionError",
     "evalue": "",
     "output_type": "error",
     "traceback": [
      "\u001b[1;31m---------------------------------------------------------------------------\u001b[0m",
      "\u001b[1;31mAssertionError\u001b[0m                            Traceback (most recent call last)",
      "Cell \u001b[1;32mIn[44], line 3\u001b[0m\n\u001b[0;32m      1\u001b[0m x \u001b[38;5;241m=\u001b[39m torch\u001b[38;5;241m.\u001b[39mrand(\u001b[38;5;241m2\u001b[39m,\u001b[38;5;241m8\u001b[39m,\u001b[38;5;241m1000\u001b[39m)\n\u001b[1;32m----> 3\u001b[0m torch_module(x)\u001b[38;5;241m.\u001b[39mshape\n",
      "File \u001b[1;32mc:\\Users\\zokov\\.conda\\envs\\py3\\Lib\\site-packages\\torch\\nn\\modules\\module.py:1532\u001b[0m, in \u001b[0;36mModule._wrapped_call_impl\u001b[1;34m(self, *args, **kwargs)\u001b[0m\n\u001b[0;32m   1530\u001b[0m     \u001b[38;5;28;01mreturn\u001b[39;00m \u001b[38;5;28mself\u001b[39m\u001b[38;5;241m.\u001b[39m_compiled_call_impl(\u001b[38;5;241m*\u001b[39margs, \u001b[38;5;241m*\u001b[39m\u001b[38;5;241m*\u001b[39mkwargs)  \u001b[38;5;66;03m# type: ignore[misc]\u001b[39;00m\n\u001b[0;32m   1531\u001b[0m \u001b[38;5;28;01melse\u001b[39;00m:\n\u001b[1;32m-> 1532\u001b[0m     \u001b[38;5;28;01mreturn\u001b[39;00m \u001b[38;5;28mself\u001b[39m\u001b[38;5;241m.\u001b[39m_call_impl(\u001b[38;5;241m*\u001b[39margs, \u001b[38;5;241m*\u001b[39m\u001b[38;5;241m*\u001b[39mkwargs)\n",
      "File \u001b[1;32mc:\\Users\\zokov\\.conda\\envs\\py3\\Lib\\site-packages\\torch\\nn\\modules\\module.py:1541\u001b[0m, in \u001b[0;36mModule._call_impl\u001b[1;34m(self, *args, **kwargs)\u001b[0m\n\u001b[0;32m   1536\u001b[0m \u001b[38;5;66;03m# If we don't have any hooks, we want to skip the rest of the logic in\u001b[39;00m\n\u001b[0;32m   1537\u001b[0m \u001b[38;5;66;03m# this function, and just call forward.\u001b[39;00m\n\u001b[0;32m   1538\u001b[0m \u001b[38;5;28;01mif\u001b[39;00m \u001b[38;5;129;01mnot\u001b[39;00m (\u001b[38;5;28mself\u001b[39m\u001b[38;5;241m.\u001b[39m_backward_hooks \u001b[38;5;129;01mor\u001b[39;00m \u001b[38;5;28mself\u001b[39m\u001b[38;5;241m.\u001b[39m_backward_pre_hooks \u001b[38;5;129;01mor\u001b[39;00m \u001b[38;5;28mself\u001b[39m\u001b[38;5;241m.\u001b[39m_forward_hooks \u001b[38;5;129;01mor\u001b[39;00m \u001b[38;5;28mself\u001b[39m\u001b[38;5;241m.\u001b[39m_forward_pre_hooks\n\u001b[0;32m   1539\u001b[0m         \u001b[38;5;129;01mor\u001b[39;00m _global_backward_pre_hooks \u001b[38;5;129;01mor\u001b[39;00m _global_backward_hooks\n\u001b[0;32m   1540\u001b[0m         \u001b[38;5;129;01mor\u001b[39;00m _global_forward_hooks \u001b[38;5;129;01mor\u001b[39;00m _global_forward_pre_hooks):\n\u001b[1;32m-> 1541\u001b[0m     \u001b[38;5;28;01mreturn\u001b[39;00m forward_call(\u001b[38;5;241m*\u001b[39margs, \u001b[38;5;241m*\u001b[39m\u001b[38;5;241m*\u001b[39mkwargs)\n\u001b[0;32m   1543\u001b[0m \u001b[38;5;28;01mtry\u001b[39;00m:\n\u001b[0;32m   1544\u001b[0m     result \u001b[38;5;241m=\u001b[39m \u001b[38;5;28;01mNone\u001b[39;00m\n",
      "File \u001b[1;32mc:\\Users\\zokov\\.conda\\envs\\py3\\Lib\\site-packages\\torch\\nn\\modules\\container.py:217\u001b[0m, in \u001b[0;36mSequential.forward\u001b[1;34m(self, input)\u001b[0m\n\u001b[0;32m    215\u001b[0m \u001b[38;5;28;01mdef\u001b[39;00m \u001b[38;5;21mforward\u001b[39m(\u001b[38;5;28mself\u001b[39m, \u001b[38;5;28minput\u001b[39m):\n\u001b[0;32m    216\u001b[0m     \u001b[38;5;28;01mfor\u001b[39;00m module \u001b[38;5;129;01min\u001b[39;00m \u001b[38;5;28mself\u001b[39m:\n\u001b[1;32m--> 217\u001b[0m         \u001b[38;5;28minput\u001b[39m \u001b[38;5;241m=\u001b[39m module(\u001b[38;5;28minput\u001b[39m)\n\u001b[0;32m    218\u001b[0m     \u001b[38;5;28;01mreturn\u001b[39;00m \u001b[38;5;28minput\u001b[39m\n",
      "File \u001b[1;32mc:\\Users\\zokov\\.conda\\envs\\py3\\Lib\\site-packages\\torch\\nn\\modules\\module.py:1532\u001b[0m, in \u001b[0;36mModule._wrapped_call_impl\u001b[1;34m(self, *args, **kwargs)\u001b[0m\n\u001b[0;32m   1530\u001b[0m     \u001b[38;5;28;01mreturn\u001b[39;00m \u001b[38;5;28mself\u001b[39m\u001b[38;5;241m.\u001b[39m_compiled_call_impl(\u001b[38;5;241m*\u001b[39margs, \u001b[38;5;241m*\u001b[39m\u001b[38;5;241m*\u001b[39mkwargs)  \u001b[38;5;66;03m# type: ignore[misc]\u001b[39;00m\n\u001b[0;32m   1531\u001b[0m \u001b[38;5;28;01melse\u001b[39;00m:\n\u001b[1;32m-> 1532\u001b[0m     \u001b[38;5;28;01mreturn\u001b[39;00m \u001b[38;5;28mself\u001b[39m\u001b[38;5;241m.\u001b[39m_call_impl(\u001b[38;5;241m*\u001b[39margs, \u001b[38;5;241m*\u001b[39m\u001b[38;5;241m*\u001b[39mkwargs)\n",
      "File \u001b[1;32mc:\\Users\\zokov\\.conda\\envs\\py3\\Lib\\site-packages\\torch\\nn\\modules\\module.py:1541\u001b[0m, in \u001b[0;36mModule._call_impl\u001b[1;34m(self, *args, **kwargs)\u001b[0m\n\u001b[0;32m   1536\u001b[0m \u001b[38;5;66;03m# If we don't have any hooks, we want to skip the rest of the logic in\u001b[39;00m\n\u001b[0;32m   1537\u001b[0m \u001b[38;5;66;03m# this function, and just call forward.\u001b[39;00m\n\u001b[0;32m   1538\u001b[0m \u001b[38;5;28;01mif\u001b[39;00m \u001b[38;5;129;01mnot\u001b[39;00m (\u001b[38;5;28mself\u001b[39m\u001b[38;5;241m.\u001b[39m_backward_hooks \u001b[38;5;129;01mor\u001b[39;00m \u001b[38;5;28mself\u001b[39m\u001b[38;5;241m.\u001b[39m_backward_pre_hooks \u001b[38;5;129;01mor\u001b[39;00m \u001b[38;5;28mself\u001b[39m\u001b[38;5;241m.\u001b[39m_forward_hooks \u001b[38;5;129;01mor\u001b[39;00m \u001b[38;5;28mself\u001b[39m\u001b[38;5;241m.\u001b[39m_forward_pre_hooks\n\u001b[0;32m   1539\u001b[0m         \u001b[38;5;129;01mor\u001b[39;00m _global_backward_pre_hooks \u001b[38;5;129;01mor\u001b[39;00m _global_backward_hooks\n\u001b[0;32m   1540\u001b[0m         \u001b[38;5;129;01mor\u001b[39;00m _global_forward_hooks \u001b[38;5;129;01mor\u001b[39;00m _global_forward_pre_hooks):\n\u001b[1;32m-> 1541\u001b[0m     \u001b[38;5;28;01mreturn\u001b[39;00m forward_call(\u001b[38;5;241m*\u001b[39margs, \u001b[38;5;241m*\u001b[39m\u001b[38;5;241m*\u001b[39mkwargs)\n\u001b[0;32m   1543\u001b[0m \u001b[38;5;28;01mtry\u001b[39;00m:\n\u001b[0;32m   1544\u001b[0m     result \u001b[38;5;241m=\u001b[39m \u001b[38;5;28;01mNone\u001b[39;00m\n",
      "File \u001b[1;32mc:\\Users\\zokov\\.conda\\envs\\py3\\Lib\\site-packages\\torch\\nn\\modules\\container.py:217\u001b[0m, in \u001b[0;36mSequential.forward\u001b[1;34m(self, input)\u001b[0m\n\u001b[0;32m    215\u001b[0m \u001b[38;5;28;01mdef\u001b[39;00m \u001b[38;5;21mforward\u001b[39m(\u001b[38;5;28mself\u001b[39m, \u001b[38;5;28minput\u001b[39m):\n\u001b[0;32m    216\u001b[0m     \u001b[38;5;28;01mfor\u001b[39;00m module \u001b[38;5;129;01min\u001b[39;00m \u001b[38;5;28mself\u001b[39m:\n\u001b[1;32m--> 217\u001b[0m         \u001b[38;5;28minput\u001b[39m \u001b[38;5;241m=\u001b[39m module(\u001b[38;5;28minput\u001b[39m)\n\u001b[0;32m    218\u001b[0m     \u001b[38;5;28;01mreturn\u001b[39;00m \u001b[38;5;28minput\u001b[39m\n",
      "File \u001b[1;32mc:\\Users\\zokov\\.conda\\envs\\py3\\Lib\\site-packages\\torch\\nn\\modules\\module.py:1532\u001b[0m, in \u001b[0;36mModule._wrapped_call_impl\u001b[1;34m(self, *args, **kwargs)\u001b[0m\n\u001b[0;32m   1530\u001b[0m     \u001b[38;5;28;01mreturn\u001b[39;00m \u001b[38;5;28mself\u001b[39m\u001b[38;5;241m.\u001b[39m_compiled_call_impl(\u001b[38;5;241m*\u001b[39margs, \u001b[38;5;241m*\u001b[39m\u001b[38;5;241m*\u001b[39mkwargs)  \u001b[38;5;66;03m# type: ignore[misc]\u001b[39;00m\n\u001b[0;32m   1531\u001b[0m \u001b[38;5;28;01melse\u001b[39;00m:\n\u001b[1;32m-> 1532\u001b[0m     \u001b[38;5;28;01mreturn\u001b[39;00m \u001b[38;5;28mself\u001b[39m\u001b[38;5;241m.\u001b[39m_call_impl(\u001b[38;5;241m*\u001b[39margs, \u001b[38;5;241m*\u001b[39m\u001b[38;5;241m*\u001b[39mkwargs)\n",
      "File \u001b[1;32mc:\\Users\\zokov\\.conda\\envs\\py3\\Lib\\site-packages\\torch\\nn\\modules\\module.py:1541\u001b[0m, in \u001b[0;36mModule._call_impl\u001b[1;34m(self, *args, **kwargs)\u001b[0m\n\u001b[0;32m   1536\u001b[0m \u001b[38;5;66;03m# If we don't have any hooks, we want to skip the rest of the logic in\u001b[39;00m\n\u001b[0;32m   1537\u001b[0m \u001b[38;5;66;03m# this function, and just call forward.\u001b[39;00m\n\u001b[0;32m   1538\u001b[0m \u001b[38;5;28;01mif\u001b[39;00m \u001b[38;5;129;01mnot\u001b[39;00m (\u001b[38;5;28mself\u001b[39m\u001b[38;5;241m.\u001b[39m_backward_hooks \u001b[38;5;129;01mor\u001b[39;00m \u001b[38;5;28mself\u001b[39m\u001b[38;5;241m.\u001b[39m_backward_pre_hooks \u001b[38;5;129;01mor\u001b[39;00m \u001b[38;5;28mself\u001b[39m\u001b[38;5;241m.\u001b[39m_forward_hooks \u001b[38;5;129;01mor\u001b[39;00m \u001b[38;5;28mself\u001b[39m\u001b[38;5;241m.\u001b[39m_forward_pre_hooks\n\u001b[0;32m   1539\u001b[0m         \u001b[38;5;129;01mor\u001b[39;00m _global_backward_pre_hooks \u001b[38;5;129;01mor\u001b[39;00m _global_backward_hooks\n\u001b[0;32m   1540\u001b[0m         \u001b[38;5;129;01mor\u001b[39;00m _global_forward_hooks \u001b[38;5;129;01mor\u001b[39;00m _global_forward_pre_hooks):\n\u001b[1;32m-> 1541\u001b[0m     \u001b[38;5;28;01mreturn\u001b[39;00m forward_call(\u001b[38;5;241m*\u001b[39margs, \u001b[38;5;241m*\u001b[39m\u001b[38;5;241m*\u001b[39mkwargs)\n\u001b[0;32m   1543\u001b[0m \u001b[38;5;28;01mtry\u001b[39;00m:\n\u001b[0;32m   1544\u001b[0m     result \u001b[38;5;241m=\u001b[39m \u001b[38;5;28;01mNone\u001b[39;00m\n",
      "File \u001b[1;32mc:\\Users\\zokov\\.conda\\envs\\py3\\Lib\\site-packages\\braindecode\\models\\modules.py:36\u001b[0m, in \u001b[0;36mExpression.forward\u001b[1;34m(self, *x)\u001b[0m\n\u001b[0;32m     35\u001b[0m \u001b[38;5;28;01mdef\u001b[39;00m \u001b[38;5;21mforward\u001b[39m(\u001b[38;5;28mself\u001b[39m, \u001b[38;5;241m*\u001b[39mx):\n\u001b[1;32m---> 36\u001b[0m     \u001b[38;5;28;01mreturn\u001b[39;00m \u001b[38;5;28mself\u001b[39m\u001b[38;5;241m.\u001b[39mexpression_fn(\u001b[38;5;241m*\u001b[39mx)\n",
      "File \u001b[1;32mc:\\Users\\zokov\\.conda\\envs\\py3\\Lib\\site-packages\\braindecode\\models\\functions.py:32\u001b[0m, in \u001b[0;36msqueeze_final_output\u001b[1;34m(x)\u001b[0m\n\u001b[0;32m     21\u001b[0m \u001b[38;5;28;01mdef\u001b[39;00m \u001b[38;5;21msqueeze_final_output\u001b[39m(x):\n\u001b[0;32m     22\u001b[0m \u001b[38;5;250m    \u001b[39m\u001b[38;5;124;03m\"\"\"Removes empty dimension at end and potentially removes empty time\u001b[39;00m\n\u001b[0;32m     23\u001b[0m \u001b[38;5;124;03m     dimension. It does  not just use squeeze as we never want to remove\u001b[39;00m\n\u001b[0;32m     24\u001b[0m \u001b[38;5;124;03m     first dimension.\u001b[39;00m\n\u001b[1;32m   (...)\u001b[0m\n\u001b[0;32m     29\u001b[0m \u001b[38;5;124;03m        squeezed tensor\u001b[39;00m\n\u001b[0;32m     30\u001b[0m \u001b[38;5;124;03m    \"\"\"\u001b[39;00m\n\u001b[1;32m---> 32\u001b[0m     \u001b[38;5;28;01massert\u001b[39;00m x\u001b[38;5;241m.\u001b[39msize()[\u001b[38;5;241m3\u001b[39m] \u001b[38;5;241m==\u001b[39m \u001b[38;5;241m1\u001b[39m\n\u001b[0;32m     33\u001b[0m     x \u001b[38;5;241m=\u001b[39m x[:, :, :, \u001b[38;5;241m0\u001b[39m]\n\u001b[0;32m     34\u001b[0m     \u001b[38;5;28;01mif\u001b[39;00m x\u001b[38;5;241m.\u001b[39msize()[\u001b[38;5;241m2\u001b[39m] \u001b[38;5;241m==\u001b[39m \u001b[38;5;241m1\u001b[39m:\n",
      "\u001b[1;31mAssertionError\u001b[0m: "
     ]
    }
   ],
   "source": [
    "\n",
    "x = torch.rand(2,8,1000)\n",
    "\n",
    "torch_module(x).shape"
   ]
  },
  {
   "cell_type": "code",
   "execution_count": 36,
   "metadata": {},
   "outputs": [
    {
     "name": "stderr",
     "output_type": "stream",
     "text": [
      "c:\\Users\\zokov\\.conda\\envs\\py3\\Lib\\site-packages\\braindecode\\models\\base.py:23: UserWarning: EEGNetv4: 'in_chans' is depreciated. Use 'n_chans' instead.\n",
      "  warnings.warn(\n",
      "c:\\Users\\zokov\\.conda\\envs\\py3\\Lib\\site-packages\\braindecode\\models\\base.py:23: UserWarning: EEGNetv4: 'n_classes' is depreciated. Use 'n_outputs' instead.\n",
      "  warnings.warn(\n",
      "c:\\Users\\zokov\\.conda\\envs\\py3\\Lib\\site-packages\\braindecode\\models\\base.py:23: UserWarning: EEGNetv4: 'input_window_samples' is depreciated. Use 'n_times' instead.\n",
      "  warnings.warn(\n"
     ]
    }
   ],
   "source": [
    "import pickle\n",
    "\n",
    "# download the model from the hub:\n",
    "path_kwargs = hf_hub_download(\n",
    "    repo_id='PierreGtch/EEGNetv4',\n",
    "    filename='EEGNetv4_Lee2019_MI/kwargs.pkl',\n",
    "    # filename='EEGNetv4_Weibo2014/kwargs.pkl',\n",
    ")\n",
    "path_params = hf_hub_download(\n",
    "    repo_id='PierreGtch/EEGNetv4',\n",
    "    filename='EEGNetv4_Lee2019_MI/model-params.pkl',\n",
    "    # filename = 'EEGNetv4_Weibo2014/kwargs.pkl'\n",
    ")\n",
    "with open(path_kwargs, 'rb') as f:\n",
    "    kwargs = pickle.load(f)\n",
    "module_cls = kwargs['module_cls']\n",
    "module_kwargs = kwargs['module_kwargs']\n",
    "\n",
    "# load the model with pre-trained weights:\n",
    "torch_module_1 = module_cls(**module_kwargs)"
   ]
  },
  {
   "cell_type": "code",
   "execution_count": 38,
   "metadata": {},
   "outputs": [
    {
     "data": {
      "text/plain": [
       "torch.Size([2, 2, 20])"
      ]
     },
     "execution_count": 38,
     "metadata": {},
     "output_type": "execute_result"
    }
   ],
   "source": [
    "torch_module_1(x).shape"
   ]
  },
  {
   "cell_type": "code",
   "execution_count": 48,
   "metadata": {},
   "outputs": [
    {
     "name": "stdout",
     "output_type": "stream",
     "text": [
      "collections\n",
      "torch._utils\n"
     ]
    },
    {
     "ename": "RuntimeError",
     "evalue": "Error(s) in loading state_dict for EEGNetv4:\n\tsize mismatch for conv_spatial.weight: copying a param with shape torch.Size([16, 1, 19, 1]) from checkpoint, the shape in current model is torch.Size([16, 1, 2, 1]).\n\tsize mismatch for final_layer.conv_classifier.weight: copying a param with shape torch.Size([2, 16, 1, 4]) from checkpoint, the shape in current model is torch.Size([2, 16, 1, 31]).",
     "output_type": "error",
     "traceback": [
      "\u001b[1;31m---------------------------------------------------------------------------\u001b[0m",
      "\u001b[1;31mRuntimeError\u001b[0m                              Traceback (most recent call last)",
      "Cell \u001b[1;32mIn[48], line 35\u001b[0m\n\u001b[0;32m     30\u001b[0m net \u001b[38;5;241m=\u001b[39m NeuralNet(\n\u001b[0;32m     31\u001b[0m     model,\n\u001b[0;32m     32\u001b[0m     criterion\u001b[38;5;241m=\u001b[39mnn\u001b[38;5;241m.\u001b[39mCrossEntropyLoss(weight\u001b[38;5;241m=\u001b[39mth\u001b[38;5;241m.\u001b[39mtensor([\u001b[38;5;241m1\u001b[39m, \u001b[38;5;241m1\u001b[39m])),\n\u001b[0;32m     33\u001b[0m )\n\u001b[0;32m     34\u001b[0m net\u001b[38;5;241m.\u001b[39minitialize()\n\u001b[1;32m---> 35\u001b[0m net\u001b[38;5;241m.\u001b[39mload_params(\n\u001b[0;32m     36\u001b[0m     path_params,\n\u001b[0;32m     37\u001b[0m     path_optimizer,\n\u001b[0;32m     38\u001b[0m     path_criterion,\n\u001b[0;32m     39\u001b[0m     path_history,\n\u001b[0;32m     40\u001b[0m )\n",
      "File \u001b[1;32mc:\\Users\\zokov\\.conda\\envs\\py3\\Lib\\site-packages\\skorch\\net.py:2670\u001b[0m, in \u001b[0;36mNeuralNet.load_params\u001b[1;34m(self, f_params, f_optimizer, f_criterion, f_history, checkpoint, use_safetensors, **kwargs)\u001b[0m\n\u001b[0;32m   2668\u001b[0m module \u001b[38;5;241m=\u001b[39m \u001b[38;5;28mself\u001b[39m\u001b[38;5;241m.\u001b[39m_get_module(attr, msg\u001b[38;5;241m=\u001b[39mmsg_module)\n\u001b[0;32m   2669\u001b[0m state_dict \u001b[38;5;241m=\u001b[39m _get_state_dict(f_name)\n\u001b[1;32m-> 2670\u001b[0m module\u001b[38;5;241m.\u001b[39mload_state_dict(state_dict)\n",
      "File \u001b[1;32mc:\\Users\\zokov\\.conda\\envs\\py3\\Lib\\site-packages\\braindecode\\models\\base.py:232\u001b[0m, in \u001b[0;36mEEGModuleMixin.load_state_dict\u001b[1;34m(self, state_dict, *args, **kwargs)\u001b[0m\n\u001b[0;32m    229\u001b[0m     \u001b[38;5;28;01melse\u001b[39;00m:\n\u001b[0;32m    230\u001b[0m         new_state_dict[k] \u001b[38;5;241m=\u001b[39m v\n\u001b[1;32m--> 232\u001b[0m \u001b[38;5;28;01mreturn\u001b[39;00m \u001b[38;5;28msuper\u001b[39m()\u001b[38;5;241m.\u001b[39mload_state_dict(new_state_dict, \u001b[38;5;241m*\u001b[39margs, \u001b[38;5;241m*\u001b[39m\u001b[38;5;241m*\u001b[39mkwargs)\n",
      "File \u001b[1;32mc:\\Users\\zokov\\.conda\\envs\\py3\\Lib\\site-packages\\torch\\nn\\modules\\module.py:2189\u001b[0m, in \u001b[0;36mModule.load_state_dict\u001b[1;34m(self, state_dict, strict, assign)\u001b[0m\n\u001b[0;32m   2184\u001b[0m         error_msgs\u001b[38;5;241m.\u001b[39minsert(\n\u001b[0;32m   2185\u001b[0m             \u001b[38;5;241m0\u001b[39m, \u001b[38;5;124m'\u001b[39m\u001b[38;5;124mMissing key(s) in state_dict: \u001b[39m\u001b[38;5;132;01m{}\u001b[39;00m\u001b[38;5;124m. \u001b[39m\u001b[38;5;124m'\u001b[39m\u001b[38;5;241m.\u001b[39mformat(\n\u001b[0;32m   2186\u001b[0m                 \u001b[38;5;124m'\u001b[39m\u001b[38;5;124m, \u001b[39m\u001b[38;5;124m'\u001b[39m\u001b[38;5;241m.\u001b[39mjoin(\u001b[38;5;124mf\u001b[39m\u001b[38;5;124m'\u001b[39m\u001b[38;5;124m\"\u001b[39m\u001b[38;5;132;01m{\u001b[39;00mk\u001b[38;5;132;01m}\u001b[39;00m\u001b[38;5;124m\"\u001b[39m\u001b[38;5;124m'\u001b[39m \u001b[38;5;28;01mfor\u001b[39;00m k \u001b[38;5;129;01min\u001b[39;00m missing_keys)))\n\u001b[0;32m   2188\u001b[0m \u001b[38;5;28;01mif\u001b[39;00m \u001b[38;5;28mlen\u001b[39m(error_msgs) \u001b[38;5;241m>\u001b[39m \u001b[38;5;241m0\u001b[39m:\n\u001b[1;32m-> 2189\u001b[0m     \u001b[38;5;28;01mraise\u001b[39;00m \u001b[38;5;167;01mRuntimeError\u001b[39;00m(\u001b[38;5;124m'\u001b[39m\u001b[38;5;124mError(s) in loading state_dict for \u001b[39m\u001b[38;5;132;01m{}\u001b[39;00m\u001b[38;5;124m:\u001b[39m\u001b[38;5;130;01m\\n\u001b[39;00m\u001b[38;5;130;01m\\t\u001b[39;00m\u001b[38;5;132;01m{}\u001b[39;00m\u001b[38;5;124m'\u001b[39m\u001b[38;5;241m.\u001b[39mformat(\n\u001b[0;32m   2190\u001b[0m                        \u001b[38;5;28mself\u001b[39m\u001b[38;5;241m.\u001b[39m\u001b[38;5;18m__class__\u001b[39m\u001b[38;5;241m.\u001b[39m\u001b[38;5;18m__name__\u001b[39m, \u001b[38;5;124m\"\u001b[39m\u001b[38;5;130;01m\\n\u001b[39;00m\u001b[38;5;130;01m\\t\u001b[39;00m\u001b[38;5;124m\"\u001b[39m\u001b[38;5;241m.\u001b[39mjoin(error_msgs)))\n\u001b[0;32m   2191\u001b[0m \u001b[38;5;28;01mreturn\u001b[39;00m _IncompatibleKeys(missing_keys, unexpected_keys)\n",
      "\u001b[1;31mRuntimeError\u001b[0m: Error(s) in loading state_dict for EEGNetv4:\n\tsize mismatch for conv_spatial.weight: copying a param with shape torch.Size([16, 1, 19, 1]) from checkpoint, the shape in current model is torch.Size([16, 1, 2, 1]).\n\tsize mismatch for final_layer.conv_classifier.weight: copying a param with shape torch.Size([2, 16, 1, 4]) from checkpoint, the shape in current model is torch.Size([2, 16, 1, 31])."
     ]
    }
   ],
   "source": [
    "from braindecode.models import EEGNetv4\n",
    "from huggingface_hub import hf_hub_download\n",
    "from skorch import NeuralNet\n",
    "import torch.nn as nn\n",
    "import torch as th\n",
    "\n",
    "path_params = hf_hub_download(\n",
    "    repo_id='guido151/EEGNetv4',\n",
    "    filename='EEGNetv4_Lee2019_ERP/params.pt',\n",
    ")\n",
    "path_optimizer = hf_hub_download(\n",
    "    repo_id='guido151/EEGNetv4',\n",
    "    filename='EEGNetv4_Lee2019_ERP/optimizer.pt',\n",
    ")\n",
    "path_history = hf_hub_download(\n",
    "    repo_id='guido151/EEGNetv4',\n",
    "    filename='EEGNetv4_Lee2019_ERP/history.json',\n",
    ")\n",
    "path_criterion = hf_hub_download(\n",
    "    repo_id='guido151/EEGNetv4',\n",
    "    filename='EEGNetv4_Lee2019_ERP/criterion.pt',\n",
    ")\n",
    "\n",
    "model = EEGNetv4(\n",
    "        n_chans=2,\n",
    "        n_outputs=2,    \n",
    "        n_times=1000,\n",
    ")\n",
    "  \n",
    "net = NeuralNet(\n",
    "    model,\n",
    "    criterion=nn.CrossEntropyLoss(weight=th.tensor([1, 1])),\n",
    ")\n",
    "net.initialize()\n",
    "net.load_params(\n",
    "    path_params,\n",
    "    path_optimizer,\n",
    "    path_criterion,\n",
    "    path_history,\n",
    ")\n"
   ]
  },
  {
   "cell_type": "code",
   "execution_count": 49,
   "metadata": {},
   "outputs": [
    {
     "name": "stdout",
     "output_type": "stream",
     "text": [
      "collections\n",
      "torch._utils\n",
      "collections\n",
      "torch._utils\n",
      "collections\n",
      "torch._utils\n",
      "collections\n",
      "torch._utils\n",
      "collections\n",
      "torch._utils\n",
      "collections\n",
      "torch._utils\n",
      "collections\n",
      "torch._utils\n",
      "collections\n",
      "torch._utils\n",
      "collections\n",
      "torch._utils\n",
      "collections\n",
      "torch._utils\n",
      "main_job done\n"
     ]
    },
    {
     "name": "stderr",
     "output_type": "stream",
     "text": [
      "Processing: 100%|██████████| 2574/2574 [00:21<00:00, 120.14it/s]\n"
     ]
    },
    {
     "name": "stdout",
     "output_type": "stream",
     "text": [
      "Ensemble Model Results:\n",
      "Precision: 0.6386333771353482\n",
      "Confusion Matrix:\n",
      "[[1585  275]\n",
      " [ 228  486]]\n",
      "ROC AUC: 0.7664114032709858\n",
      "F1 Score: 0.6589830508474577\n",
      "Recall: 0.680672268907563\n",
      "Accuracy: 0.8045843045843046\n"
     ]
    }
   ],
   "source": [
    "import torch\n",
    "from model import Conv1D_v2, Bio\n",
    "import numpy as np\n",
    "from dataset import BrainWavesTest_v2\n",
    "from torch.utils.data import DataLoader\n",
    "from tqdm import tqdm\n",
    "from sklearn.metrics import precision_score, confusion_matrix, roc_auc_score, f1_score, recall_score, accuracy_score\n",
    "\n",
    "def load_model(path, model_type, channels, device):\n",
    "    if model_type == \"cnn\":\n",
    "        model = Conv1D_v2(channels).to(device)\n",
    "    elif model_type == \"transformer\":\n",
    "        model = Bio().to(device)\n",
    "    state_dict = torch.load(path)\n",
    "    model.load_state_dict(state_dict=state_dict)\n",
    "    model.eval()\n",
    "    return model\n",
    "\n",
    "def ensemble_predict(models, data):\n",
    "    predictions = []\n",
    "    for model in models:\n",
    "        with torch.no_grad():\n",
    "            pred = model(data).float()\n",
    "            pred = (pred >= 0.5).float().cpu().numpy()\n",
    "        predictions.append(pred)\n",
    "    \n",
    "    # Majority voting\n",
    "    ensemble_pred = np.mean(predictions, axis=0) >= 0.5\n",
    "    return ensemble_pred.astype(float)\n",
    "\n",
    "def test_ensemble():\n",
    "    device = \"cuda\" if torch.cuda.is_available() else \"cpu\"\n",
    "    channels = 8\n",
    "    model_type = \"cnn\"  # or \"transformer\"\n",
    "    \n",
    "    # Load all models\n",
    "    models = []\n",
    "    for k in range(1, 11):\n",
    "        path = f\"D:\\\\Vikas\\\\lie_detection\\\\BrainWaves\\\\results\\\\BrainWaves\\\\cnn_unnormalized_data\\\\eeg_val_{k}.pth\"\n",
    "        model = load_model(path, model_type, channels, device)\n",
    "        models.append(model)\n",
    "    \n",
    "    # Prepare dataset\n",
    "    dataset = BrainWavesTest_v2(channels=channels)\n",
    "    dataloader = DataLoader(dataset, batch_size=1)\n",
    "    \n",
    "    true_labels = []\n",
    "    ensemble_predictions = []\n",
    "    \n",
    "    for data, label, _ in tqdm(dataloader, desc=\"Processing\"):\n",
    "        input_data = data.float().to(device)\n",
    "        ensemble_pred = ensemble_predict(models, input_data)\n",
    "        \n",
    "        true_labels.append(label.numpy())\n",
    "        ensemble_predictions.append(ensemble_pred)\n",
    "    \n",
    "    true_labels = np.concatenate(true_labels, axis=0)\n",
    "    ensemble_predictions = np.concatenate(ensemble_predictions, axis=0)\n",
    "    \n",
    "    # Calculate metrics\n",
    "    precision = precision_score(true_labels, ensemble_predictions)\n",
    "    conf_matrix = confusion_matrix(true_labels, ensemble_predictions)\n",
    "    roc_auc = roc_auc_score(true_labels, ensemble_predictions)\n",
    "    f1 = f1_score(true_labels, ensemble_predictions)\n",
    "    recall = recall_score(true_labels, ensemble_predictions)\n",
    "    accuracy = accuracy_score(true_labels, ensemble_predictions)\n",
    "    \n",
    "    print(f'Ensemble Model Results:')\n",
    "    print(f'Precision: {precision}')\n",
    "    print(f'Confusion Matrix:\\n{conf_matrix}')\n",
    "    print(f'ROC AUC: {roc_auc}')\n",
    "    print(f'F1 Score: {f1}')\n",
    "    print(f'Recall: {recall}')\n",
    "    print(f'Accuracy: {accuracy}')\n",
    "\n",
    "if __name__ == \"__main__\":\n",
    "    test_ensemble()"
   ]
  },
  {
   "cell_type": "code",
   "execution_count": null,
   "metadata": {},
   "outputs": [],
   "source": []
  }
 ],
 "metadata": {
  "kernelspec": {
   "display_name": "py3",
   "language": "python",
   "name": "python3"
  },
  "language_info": {
   "codemirror_mode": {
    "name": "ipython",
    "version": 3
   },
   "file_extension": ".py",
   "mimetype": "text/x-python",
   "name": "python",
   "nbconvert_exporter": "python",
   "pygments_lexer": "ipython3",
   "version": "3.11.9"
  }
 },
 "nbformat": 4,
 "nbformat_minor": 2
}
